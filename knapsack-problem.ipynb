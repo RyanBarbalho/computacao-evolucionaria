{
 "cells": [
  {
   "cell_type": "markdown",
   "metadata": {},
   "source": [
    " implementação do problema da mochila para algoritmo genetico, baseado no exemplo de aplicação no livro: 'introduction to evolutionary computing"
   ]
  },
  {
   "cell_type": "code",
   "execution_count": 1,
   "metadata": {},
   "outputs": [],
   "source": [
    "import random"
   ]
  },
  {
   "cell_type": "code",
   "execution_count": 4,
   "metadata": {},
   "outputs": [],
   "source": [
    "class KnapSackSolution:\n",
    "    def __init__(self, genotype, items, capacity):\n",
    "        self.genotype = genotype\n",
    "        self.items = items # (value, weight)\n",
    "        self.capacity = capacity\n",
    "        \n",
    "        self.phenotype, self.total_value, self.total_weight = self.decode()\n",
    "        \n",
    "    def decode(self):\n",
    "        #converte o genotipo numa solucao factivel (fenotipo)\n",
    "        total_weight =0\n",
    "        total_value = 0\n",
    "        phenotype = []\n",
    "        \n",
    "        for bit, (value, weight) in zip(self.genotype, self.items):\n",
    "            if bit == 1:\n",
    "                if total_weight + weight <= self.capacity:\n",
    "                    phenotype.append((value, weight))\n",
    "                    total_weight += weight\n",
    "                    total_value += value\n",
    "        return phenotype, total_value, total_weight\n",
    "    \n",
    "    def fitness(self):\n",
    "        return self.total_value\n",
    "    \n",
    "    def __str__(self):\n",
    "        return f\"Phenotype: {self.phenotype}\\nTotal Value: {self.total_value}\\nTotal Weight: {self.total_weight}\"\n",
    "    \n",
    "    def __repr__(self):\n",
    "        return self.__str__()\n"
   ]
  },
  {
   "cell_type": "code",
   "execution_count": 12,
   "metadata": {},
   "outputs": [],
   "source": [
    "#initialize the population of solution objects\n",
    "def intialize_population(population_size, items, capacity):\n",
    "    population = []\n",
    "    for _ in range(population_size):\n",
    "        genotype = [random.randint(0,1) for _ in range(len(items))]\n",
    "        population.append(KnapSackSolution(genotype, items, capacity))\n",
    "    return population\n",
    "\n",
    "def tournament_selection(population, k):\n",
    "    individuals = random.sample(population, k)\n",
    "    return max(individuals, key=lambda x: x.fitness())\n",
    "\n",
    "# one point crossover\n",
    "def crossover(parent1, parent2, crossover_rate):\n",
    "    point = random.randint(0, len(parent1.genotype)-1)\n",
    "    if(random.randint(0,100) < crossover_rate):\n",
    "        offspring1 = parent1.genotype[:point] + parent2.genotype[point:]\n",
    "        offspring2 = parent2.genotype[:point] + parent1.genotype[point:]\n",
    "        return KnapSackSolution(offspring1, parent1.items, parent1.capacity),KnapSackSolution(offspring2, parent1.items, parent1.capacity)\n",
    "    else:\n",
    "        return parent1, parent2\n",
    "    \n",
    "def mutation(solution, mutation_rate):\n",
    "    for i  in range(len(solution.genotype)):\n",
    "        if(random.randint(0,100) < (mutation_rate*100)):\n",
    "            solution.genotype[i] = 1 - solution.genotype[i] # flips the bit\n",
    "    return solution\n",
    "\n",
    "def genetic_algorithm(items, capacity=10, population_size=500, crossover_rate=70, mutation_rate=0.05, generations=100, max_stagnant_generations=25):\n",
    "    population = intialize_population(population_size, items, capacity)\n",
    "    best_solution = max(population, key=lambda x: x.fitness())\n",
    "    best_fitness = best_solution.fitness()\n",
    "    \n",
    "    stagnant_generations = 0\n",
    "    generation = 0\n",
    "    \n",
    "    while True:\n",
    "        new_population = []\n",
    "        for _ in range(population_size//2):\n",
    "            parent1 = tournament_selection(population, 2)\n",
    "            parent2 = tournament_selection(population, 2)\n",
    "            offspring1, offspring2 = crossover(parent1, parent2, crossover_rate)\n",
    "            offspring1 = mutation(offspring1, mutation_rate)\n",
    "            offspring2 = mutation(offspring2, mutation_rate)\n",
    "            new_population.append(offspring1)\n",
    "            if(len(new_population) < population_size):\n",
    "                new_population.append(offspring2)\n",
    "        population = new_population\n",
    "        current_best = max(population, key=lambda x: x.fitness())\n",
    "        if (current_best.fitness() > best_fitness):\n",
    "            best_fitness = current_best.fitness()\n",
    "            best_solution = current_best\n",
    "            stagnant_generations = 0\n",
    "        else:\n",
    "            stagnant_generations +=1\n",
    "        if(stagnant_generations >= max_stagnant_generations):\n",
    "            break;\n",
    "        if(generation >= generations):\n",
    "            break;\n",
    "        generation+=1\n",
    "\n",
    "    return best_solution, best_fitness, generation, stagnant_generations"
   ]
  },
  {
   "cell_type": "code",
   "execution_count": 25,
   "metadata": {},
   "outputs": [
    {
     "name": "stdout",
     "output_type": "stream",
     "text": [
      "Best Solution: Phenotype: [(3000, 4), (1500, 2), (800, 1), (2500, 2), (1200, 1)]\n",
      "Total Value: 9000\n",
      "Total Weight: 10\n",
      "Best Fitness: 9000\n",
      "Generation : 24\n",
      "Stagnant Generations: 25\n"
     ]
    }
   ],
   "source": [
    "items = [\n",
    "    (2000, 3),    # value, weight\n",
    "    (3000, 4),\n",
    "    (1500, 2),\n",
    "    (100, 1),\n",
    "    (800, 1),\n",
    "    (2500, 2),\n",
    "    (1000, 2),\n",
    "    (1200, 1),\n",
    "    (300, 1),\n",
    "    (500, 4)\n",
    "]\n",
    "population_size = 500\n",
    "generations = 100\n",
    "crossover_rate = 70\n",
    "mutation_rate = 1/len(items)\n",
    "bag_capacity = 10\n",
    "\n",
    "best_solution, best_fitness, generation, stagnant_generations = genetic_algorithm(items, bag_capacity, population_size, crossover_rate, mutation_rate)\n",
    "print(f\"Best Solution: {best_solution}\")\n",
    "print(f\"Best Fitness: {best_fitness}\")\n",
    "print(f\"Generation : {generation}\")\n",
    "print(f\"Stagnant Generations: {stagnant_generations}\")\n",
    "\n"
   ]
  }
 ],
 "metadata": {
  "kernelspec": {
   "display_name": ".venv",
   "language": "python",
   "name": "python3"
  },
  "language_info": {
   "codemirror_mode": {
    "name": "ipython",
    "version": 3
   },
   "file_extension": ".py",
   "mimetype": "text/x-python",
   "name": "python",
   "nbconvert_exporter": "python",
   "pygments_lexer": "ipython3",
   "version": "3.12.2"
  }
 },
 "nbformat": 4,
 "nbformat_minor": 2
}
