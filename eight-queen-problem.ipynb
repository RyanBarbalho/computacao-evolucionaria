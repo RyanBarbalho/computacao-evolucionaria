{
 "cells": [
  {
   "cell_type": "code",
   "execution_count": 1,
   "metadata": {},
   "outputs": [],
   "source": [
    "import random\n",
    "import numpy as np\n",
    "import matplotlib.pyplot as plt"
   ]
  },
  {
   "cell_type": "markdown",
   "metadata": {},
   "source": [
    "representação será uma lita de 8 elementos, onde cada elemento representa a coluna da rainha da linha i;\n",
    "de inicio, não é possivel ter uma rainha na mesma linha, e por ter 8 elementos distintos, não é possivel ter uma rainha na mesma coluna;\n",
    "ex: [1,3,5,7,2,4,8,6]"
   ]
  },
  {
   "cell_type": "code",
   "execution_count": null,
   "metadata": {},
   "outputs": [],
   "source": [
    "TAMANHO_POPULACAO = 100\n",
    "GERACOES = 1000\n",
    "TAXA_MUTACAO = 0.8\n",
    "TAXA_CRUZAMENTO = 1\n",
    "\n",
    "def populacao_inicial():\n",
    "\tpopulacao = []\n",
    "\tfor _ in range(TAMANHO_POPULACAO):\n",
    "\t\tindividuo = list(range(0,9))\n",
    "\t\trandom.shuffle(individuo)\n",
    "\t\tpopulacao.append(individuo)\n",
    "\treturn populacao\n",
    "\n",
    "#quanto menor o fitness, melhor o individuo\n",
    "def funcao_fitness(individuo):\n",
    "\tfitness = 0\n",
    "\tfor i in range(len(individuo)):\n",
    "\t\tfor j in range(i+1, len(individuo)):\n",
    "\t\t\tif individuo[i]-individuo[j] == i - j or individuo[j]-individuo[i] == i-j:\n",
    "\t\t\t\tfitness +=1\n",
    "\treturn -fitness + 8\n",
    "\n",
    "def crossover(individuo1,individuo2):\n",
    "\tponto_corte = random.randint(0,len(individuo1)-1)\n",
    "\tfilho1 = individuo1[:ponto_corte]\n",
    "\t#previne numeros repetidos no crossover\n",
    "\tfor i in range(0,len(individuo1) -1):\n",
    "\t\tif(individuo2[i] not in filho1):\n",
    "\t\t\tfilho1.append(individuo2[i])\n",
    "\tfilho2 = individuo2[:ponto_corte]\n",
    "\tfor i in range(0, len(individuo2) -1):\n",
    "\t\tif(individuo1[i] not in filho2):\n",
    "\t\t\tfilho2.append(individuo1[i])\n",
    "\n",
    "\treturn filho1,filho2\n",
    "\n",
    "def selection\n",
    "\n",
    "\n"
   ]
  }
 ],
 "metadata": {
  "kernelspec": {
   "display_name": ".venv",
   "language": "python",
   "name": "python3"
  },
  "language_info": {
   "codemirror_mode": {
    "name": "ipython",
    "version": 3
   },
   "file_extension": ".py",
   "mimetype": "text/x-python",
   "name": "python",
   "nbconvert_exporter": "python",
   "pygments_lexer": "ipython3",
   "version": "3.12.3"
  }
 },
 "nbformat": 4,
 "nbformat_minor": 2
}
